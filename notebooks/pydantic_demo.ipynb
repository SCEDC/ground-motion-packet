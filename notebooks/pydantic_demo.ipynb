{
 "cells": [
  {
   "cell_type": "code",
   "execution_count": 2,
   "id": "91c54653",
   "metadata": {},
   "outputs": [],
   "source": [
    "from datetime import datetime, timedelta\n",
    "from gmpacket.provenance import SoftwareAgent, PersonAgent, OrganizationAgent, Website, Provenance\n",
    "from gmpacket.feature import (\n",
    "    Feature,\n",
    "    FeatureGeometry,\n",
    "    FeatureProperties,\n",
    "    Metric,\n",
    "    MetricDimensions,\n",
    "    MetricProperties,\n",
    "    Stream,\n",
    "    StreamHousing,\n",
    "    StreamProperties,\n",
    "    Trace,\n",
    "    TraceProperties,\n",
    ")\n",
    "from gmpacket.packet import Event, GroundMotionPacket"
   ]
  },
  {
   "cell_type": "markdown",
   "id": "a8974fc7",
   "metadata": {},
   "source": [
    "# Dealing with Provenance"
   ]
  },
  {
   "cell_type": "code",
   "execution_count": 3,
   "id": "b8e0f331",
   "metadata": {},
   "outputs": [
    {
     "data": {
      "text/plain": [
       "PersonAgent(label='Alex Processor', name='Alex Processor', email='aprocessor@datagenerator.org', role='Data Processor', prov:type={'$': 'prov:Person', 'type': 'prov:QUALIFIED_NAME'})"
      ]
     },
     "execution_count": 3,
     "metadata": {},
     "output_type": "execute_result"
    }
   ],
   "source": [
    "person = PersonAgent.from_params(\"Alex Processor\", \n",
    "                                 \"aprocessor@datagenerator.org\", \n",
    "                                 \"Data Processor\")\n",
    "person"
   ]
  },
  {
   "cell_type": "code",
   "execution_count": 4,
   "id": "7c6ad3ac",
   "metadata": {},
   "outputs": [
    {
     "data": {
      "text/plain": [
       "SoftwareAgent(label='gmprocess', name='gmprocess', version='1.2.0', website=Website(url='https://code.usgs.gov/ghsc/esi/groundmotion-processing/#introduction', site_type='xsd:anyURI'), prov:type={'$': 'prov:SoftwareAgent', 'type': 'prov:QUALIFIED_NAME'})"
      ]
     },
     "execution_count": 4,
     "metadata": {},
     "output_type": "execute_result"
    }
   ],
   "source": [
    "website = Website(url=\"https://code.usgs.gov/ghsc/esi/groundmotion-processing/#introduction\")\n",
    "software = SoftwareAgent.from_params(\"gmprocess\", \"1.2.0\", website)\n",
    "software"
   ]
  },
  {
   "cell_type": "code",
   "execution_count": 5,
   "id": "ec78bd05",
   "metadata": {},
   "outputs": [
    {
     "data": {
      "text/plain": [
       "OrganizationAgent(label='Data Generator', name='Data Generator', role='Data Provider', website=Website(url='https://www.datagenerator.org', site_type='xsd:anyURI'), prov:type={'$': 'prov:Organization', 'type': 'prov:QUALIFIED_NAME'})"
      ]
     },
     "execution_count": 5,
     "metadata": {},
     "output_type": "execute_result"
    }
   ],
   "source": [
    "org_website = Website(url=\"https://www.datagenerator.org\")\n",
    "organization = OrganizationAgent.from_params(\"Data Generator\", \"Data Provider\", org_website)\n",
    "organization"
   ]
  },
  {
   "cell_type": "code",
   "execution_count": 6,
   "id": "874f95a6",
   "metadata": {},
   "outputs": [
    {
     "data": {
      "text/plain": [
       "Provenance(agent={'person': PersonAgent(label='Alex Processor', name='Alex Processor', email='aprocessor@datagenerator.org', role='Data Processor', prov:type={'$': 'prov:Person', 'type': 'prov:QUALIFIED_NAME'}), 'software': SoftwareAgent(label='gmprocess', name='gmprocess', version='1.2.0', website=Website(url='https://code.usgs.gov/ghsc/esi/groundmotion-processing/#introduction', site_type='xsd:anyURI'), prov:type={'$': 'prov:SoftwareAgent', 'type': 'prov:QUALIFIED_NAME'}), 'organization': OrganizationAgent(label='Data Generator', name='Data Generator', role='Data Provider', website=Website(url='https://www.datagenerator.org', site_type='xsd:anyURI'), prov:type={'$': 'prov:Organization', 'type': 'prov:QUALIFIED_NAME'})}, prefix={'seis_prov': 'http://seisprov.org/seis_prov/0.1/#'})"
      ]
     },
     "execution_count": 6,
     "metadata": {},
     "output_type": "execute_result"
    }
   ],
   "source": [
    "# the names of the keys are not important, but the values must be valid Person,Software, or \n",
    "# OrganizationAgent objects.\n",
    "agents = {\"person\": person, \"software\": software, \"organization\":organization}\n",
    "provenance = Provenance(agent=agents)\n",
    "provenance"
   ]
  },
  {
   "cell_type": "markdown",
   "id": "bf3333c0",
   "metadata": {},
   "source": [
    "## Creating Simple Metrics"
   ]
  },
  {
   "cell_type": "code",
   "execution_count": 7,
   "id": "7ca97d7b",
   "metadata": {},
   "outputs": [
    {
     "data": {
      "text/plain": [
       "MetricProperties(description='Peak Ground Accleration', name='PGA', units='g', provenance_ids=['person', 'software', 'organization'], time_of_peak=None)"
      ]
     },
     "execution_count": 7,
     "metadata": {},
     "output_type": "execute_result"
    }
   ],
   "source": [
    "pga_props = MetricProperties(description=\"Peak Ground Accleration\",\n",
    "                           name=\"PGA\",\n",
    "                           units= \"g\",\n",
    "                           provenance_ids= provenance.getAgents())\n",
    "pga_props"
   ]
  },
  {
   "cell_type": "code",
   "execution_count": 8,
   "id": "c5ea10de",
   "metadata": {},
   "outputs": [
    {
     "data": {
      "text/plain": [
       "Metric(properties=MetricProperties(description='Peak Ground Accleration', name='PGA', units='g', provenance_ids=['person', 'software', 'organization'], time_of_peak=None), dimensions=None, values=1.5)"
      ]
     },
     "execution_count": 8,
     "metadata": {},
     "output_type": "execute_result"
    }
   ],
   "source": [
    "# for scalar values like PGA, MetricDimensions are not necessary\n",
    "pga_metric = Metric(properties=pga_props, values=1.5)\n",
    "pga_metric"
   ]
  },
  {
   "cell_type": "markdown",
   "id": "31c1c541",
   "metadata": {},
   "source": [
    "# Creating Complex Metrics "
   ]
  },
  {
   "cell_type": "code",
   "execution_count": 9,
   "id": "c524b50a",
   "metadata": {},
   "outputs": [
    {
     "data": {
      "text/plain": [
       "MetricProperties(description='Spectral Accleration', name='SA', units='g', provenance_ids=['person', 'software', 'organization'], time_of_peak=None)"
      ]
     },
     "execution_count": 9,
     "metadata": {},
     "output_type": "execute_result"
    }
   ],
   "source": [
    "sa_props = MetricProperties(description=\"Spectral Accleration\",\n",
    "                             name=\"SA\",\n",
    "                             units= \"g\",\n",
    "                             provenance_ids= provenance.getAgents())\n",
    "sa_props"
   ]
  },
  {
   "cell_type": "code",
   "execution_count": 10,
   "id": "6c40f2d5",
   "metadata": {},
   "outputs": [
    {
     "data": {
      "text/plain": [
       "MetricDimensions(number=2, names=['critical damping', 'period'], units=['%', 's'], axis_values=[[5.0], [0.3, 1.0, 3.0]])"
      ]
     },
     "execution_count": 10,
     "metadata": {},
     "output_type": "execute_result"
    }
   ],
   "source": [
    "sa_dims = MetricDimensions(number=2,\n",
    "                           names=[\"critical damping\", \"period\"],\n",
    "                           units=[\"%\",\"s\"],\n",
    "                           axis_values=[[5.0],[0.3, 1.0, 3.0]])\n",
    "sa_dims"
   ]
  },
  {
   "cell_type": "code",
   "execution_count": 11,
   "id": "52f2dfa2",
   "metadata": {},
   "outputs": [
    {
     "data": {
      "text/plain": [
       "Metric(properties=MetricProperties(description='Spectral Accleration', name='SA', units='g', provenance_ids=['person', 'software', 'organization'], time_of_peak=None), dimensions=MetricDimensions(number=2, names=['critical damping', 'period'], units=['%', 's'], axis_values=[[5.0], [0.3, 1.0, 3.0]]), values=[[1.2, 1.4, 1.6]])"
      ]
     },
     "execution_count": 11,
     "metadata": {},
     "output_type": "execute_result"
    }
   ],
   "source": [
    "sa_metric = Metric(properties=sa_props, dimensions=sa_dims, values=[[1.2, 1.4, 1.6]])\n",
    "sa_metric"
   ]
  },
  {
   "cell_type": "markdown",
   "id": "97045c13",
   "metadata": {},
   "source": [
    "# Creating Traces"
   ]
  },
  {
   "cell_type": "code",
   "execution_count": 12,
   "id": "93a6187c",
   "metadata": {},
   "outputs": [
    {
     "data": {
      "text/plain": [
       "TraceProperties(channel_code='HNE', location_code='10', as_recorded=True, azimuth=90.0, dip=0.0, start_time=datetime.datetime(2023, 2, 1, 16, 56, 7, 813536), end_time=datetime.datetime(2023, 2, 1, 16, 56, 37, 813536))"
      ]
     },
     "execution_count": 12,
     "metadata": {},
     "output_type": "execute_result"
    }
   ],
   "source": [
    "end_time = datetime.utcnow()\n",
    "start_time = end_time - timedelta(seconds=30)\n",
    "sa_trace_props = TraceProperties(channel_code=\"HNE\", \n",
    "                                 location_code=\"10\", \n",
    "                                 as_recorded=True, \n",
    "                                 azimuth=90, \n",
    "                                 dip=0,\n",
    "                                 start_time=start_time, \n",
    "                                 end_time=end_time)\n",
    "sa_trace_props"
   ]
  },
  {
   "cell_type": "code",
   "execution_count": 13,
   "id": "8de6d2b2",
   "metadata": {},
   "outputs": [
    {
     "data": {
      "text/plain": [
       "Trace(properties=TraceProperties(channel_code='HNE', location_code='10', as_recorded=True, azimuth=90.0, dip=0.0, start_time=datetime.datetime(2023, 2, 1, 16, 56, 7, 813536), end_time=datetime.datetime(2023, 2, 1, 16, 56, 37, 813536)), metrics=[Metric(properties=MetricProperties(description='Peak Ground Accleration', name='PGA', units='g', provenance_ids=['person', 'software', 'organization'], time_of_peak=None), dimensions=None, values=1.5), Metric(properties=MetricProperties(description='Spectral Accleration', name='SA', units='g', provenance_ids=['person', 'software', 'organization'], time_of_peak=None), dimensions=MetricDimensions(number=2, names=['critical damping', 'period'], units=['%', 's'], axis_values=[[5.0], [0.3, 1.0, 3.0]]), values=[[1.2, 1.4, 1.6]])])"
      ]
     },
     "execution_count": 13,
     "metadata": {},
     "output_type": "execute_result"
    }
   ],
   "source": [
    "metrics = [pga_metric, sa_metric]\n",
    "hne_trace = Trace(properties=sa_trace_props, metrics=metrics)\n",
    "hne_trace"
   ]
  },
  {
   "cell_type": "markdown",
   "id": "05f52a58",
   "metadata": {},
   "source": [
    "# Creating a Stream"
   ]
  },
  {
   "cell_type": "code",
   "execution_count": 14,
   "id": "4d7f2e15",
   "metadata": {},
   "outputs": [
    {
     "data": {
      "text/plain": [
       "StreamHousing(cosmos_code=10, description='A building', stream_depth=0.0, stream_location=None)"
      ]
     },
     "execution_count": 14,
     "metadata": {},
     "output_type": "execute_result"
    }
   ],
   "source": [
    "stream_housing = StreamHousing(cosmos_code=10, description=\"A building\", stream_depth=0.0)\n",
    "stream_housing"
   ]
  },
  {
   "cell_type": "code",
   "execution_count": 15,
   "id": "c356019e",
   "metadata": {},
   "outputs": [
    {
     "data": {
      "text/plain": [
       "StreamProperties(band_code='H', instrument_code='N', samples_per_second=100.0, stream_housing=StreamHousing(cosmos_code=10, description='A building', stream_depth=0.0, stream_location=None))"
      ]
     },
     "execution_count": 15,
     "metadata": {},
     "output_type": "execute_result"
    }
   ],
   "source": [
    "stream_props = StreamProperties(band_code=\"H\", \n",
    "                                instrument_code=\"N\", \n",
    "                                samples_per_second=100.0, \n",
    "                                stream_housing=stream_housing)\n",
    "stream_props"
   ]
  },
  {
   "cell_type": "code",
   "execution_count": 16,
   "id": "79d6f86b",
   "metadata": {},
   "outputs": [
    {
     "data": {
      "text/plain": [
       "Stream(properties=StreamProperties(band_code='H', instrument_code='N', samples_per_second=100.0, stream_housing=StreamHousing(cosmos_code=10, description='A building', stream_depth=0.0, stream_location=None)), traces=[Trace(properties=TraceProperties(channel_code='HNE', location_code='10', as_recorded=True, azimuth=90.0, dip=0.0, start_time=datetime.datetime(2023, 2, 1, 16, 56, 7, 813536), end_time=datetime.datetime(2023, 2, 1, 16, 56, 37, 813536)), metrics=[Metric(properties=MetricProperties(description='Peak Ground Accleration', name='PGA', units='g', provenance_ids=['person', 'software', 'organization'], time_of_peak=None), dimensions=None, values=1.5), Metric(properties=MetricProperties(description='Spectral Accleration', name='SA', units='g', provenance_ids=['person', 'software', 'organization'], time_of_peak=None), dimensions=MetricDimensions(number=2, names=['critical damping', 'period'], units=['%', 's'], axis_values=[[5.0], [0.3, 1.0, 3.0]]), values=[[1.2, 1.4, 1.6]])])])"
      ]
     },
     "execution_count": 16,
     "metadata": {},
     "output_type": "execute_result"
    }
   ],
   "source": [
    "stream = Stream(properties=stream_props, traces=[hne_trace])\n",
    "stream"
   ]
  },
  {
   "cell_type": "markdown",
   "id": "67f19a9e",
   "metadata": {},
   "source": [
    "# Creating a Feature (station)"
   ]
  },
  {
   "cell_type": "code",
   "execution_count": 17,
   "id": "a4baed9c",
   "metadata": {},
   "outputs": [
    {
     "data": {
      "text/plain": [
       "FeatureGeometry(coordinates=[-124.1, 32.0, 1.1], type='Point')"
      ]
     },
     "execution_count": 17,
     "metadata": {},
     "output_type": "execute_result"
    }
   ],
   "source": [
    "feature_geom = FeatureGeometry(coordinates=[-124.1, 32.0, 1.1])\n",
    "feature_geom"
   ]
  },
  {
   "cell_type": "code",
   "execution_count": 18,
   "id": "f9b4c417",
   "metadata": {},
   "outputs": [
    {
     "data": {
      "text/plain": [
       "FeatureProperties(network_code='NC', station_code='ABCD', name='A nice place for picnics', streams=[Stream(properties=StreamProperties(band_code='H', instrument_code='N', samples_per_second=100.0, stream_housing=StreamHousing(cosmos_code=10, description='A building', stream_depth=0.0, stream_location=None)), traces=[Trace(properties=TraceProperties(channel_code='HNE', location_code='10', as_recorded=True, azimuth=90.0, dip=0.0, start_time=datetime.datetime(2023, 2, 1, 16, 56, 7, 813536), end_time=datetime.datetime(2023, 2, 1, 16, 56, 37, 813536)), metrics=[Metric(properties=MetricProperties(description='Peak Ground Accleration', name='PGA', units='g', provenance_ids=['person', 'software', 'organization'], time_of_peak=None), dimensions=None, values=1.5), Metric(properties=MetricProperties(description='Spectral Accleration', name='SA', units='g', provenance_ids=['person', 'software', 'organization'], time_of_peak=None), dimensions=MetricDimensions(number=2, names=['critical damping', 'period'], units=['%', 's'], axis_values=[[5.0], [0.3, 1.0, 3.0]]), values=[[1.2, 1.4, 1.6]])])])], structure_reference_orientation=None)"
      ]
     },
     "execution_count": 18,
     "metadata": {},
     "output_type": "execute_result"
    }
   ],
   "source": [
    "feature_props = FeatureProperties(network_code=\"NC\", \n",
    "                                  station_code=\"ABCD\", \n",
    "                                  name=\"A nice place for picnics\", \n",
    "                                  streams=[stream])\n",
    "feature_props"
   ]
  },
  {
   "cell_type": "code",
   "execution_count": 19,
   "id": "44533364",
   "metadata": {},
   "outputs": [
    {
     "data": {
      "text/plain": [
       "Feature(geometry=FeatureGeometry(coordinates=[-124.1, 32.0, 1.1], type='Point'), properties=FeatureProperties(network_code='NC', station_code='ABCD', name='A nice place for picnics', streams=[Stream(properties=StreamProperties(band_code='H', instrument_code='N', samples_per_second=100.0, stream_housing=StreamHousing(cosmos_code=10, description='A building', stream_depth=0.0, stream_location=None)), traces=[Trace(properties=TraceProperties(channel_code='HNE', location_code='10', as_recorded=True, azimuth=90.0, dip=0.0, start_time=datetime.datetime(2023, 2, 1, 16, 56, 7, 813536), end_time=datetime.datetime(2023, 2, 1, 16, 56, 37, 813536)), metrics=[Metric(properties=MetricProperties(description='Peak Ground Accleration', name='PGA', units='g', provenance_ids=['person', 'software', 'organization'], time_of_peak=None), dimensions=None, values=1.5), Metric(properties=MetricProperties(description='Spectral Accleration', name='SA', units='g', provenance_ids=['person', 'software', 'organization'], time_of_peak=None), dimensions=MetricDimensions(number=2, names=['critical damping', 'period'], units=['%', 's'], axis_values=[[5.0], [0.3, 1.0, 3.0]]), values=[[1.2, 1.4, 1.6]])])])], structure_reference_orientation=None), type='Feature')"
      ]
     },
     "execution_count": 19,
     "metadata": {},
     "output_type": "execute_result"
    }
   ],
   "source": [
    "feature = Feature(geometry=feature_geom, properties=feature_props)\n",
    "feature"
   ]
  },
  {
   "cell_type": "markdown",
   "id": "ca75e464",
   "metadata": {},
   "source": [
    "# Creating a Ground Motion Packet"
   ]
  },
  {
   "cell_type": "code",
   "execution_count": 20,
   "id": "363d381c",
   "metadata": {},
   "outputs": [
    {
     "data": {
      "text/plain": [
       "Event(type='Feature', properties={'id': 'us2023abcd', 'time': datetime.datetime(2023, 2, 1, 16, 56, 37, 863269), 'magnitude': 7.3}, geometry={'type': 'Point', 'coordinates': [-120.0, 32.1, 35300.0]})"
      ]
     },
     "execution_count": 20,
     "metadata": {},
     "output_type": "execute_result"
    }
   ],
   "source": [
    "event = Event.from_params(\"us2023abcd\", datetime.utcnow(), 7.3, 32.1, -120.0, 35.3)\n",
    "event"
   ]
  },
  {
   "cell_type": "code",
   "execution_count": 21,
   "id": "cacc855d",
   "metadata": {},
   "outputs": [
    {
     "data": {
      "text/plain": [
       "GroundMotionPacket(version='0.1dev', creation_time=datetime.datetime(2023, 2, 1, 16, 56, 37, 732084), event=Event(type='Feature', properties={'id': 'us2023abcd', 'time': datetime.datetime(2023, 2, 1, 16, 56, 37, 863269), 'magnitude': 7.3}, geometry={'type': 'Point', 'coordinates': [-120.0, 32.1, 35300.0]}), provenance=Provenance(agent={'person': PersonAgent(label='Alex Processor', name='Alex Processor', email='aprocessor@datagenerator.org', role='Data Processor', prov:type={'$': 'prov:Person', 'type': 'prov:QUALIFIED_NAME'}), 'software': SoftwareAgent(label='gmprocess', name='gmprocess', version='1.2.0', website=Website(url='https://code.usgs.gov/ghsc/esi/groundmotion-processing/#introduction', site_type='xsd:anyURI'), prov:type={'$': 'prov:SoftwareAgent', 'type': 'prov:QUALIFIED_NAME'}), 'organization': OrganizationAgent(label='Data Generator', name='Data Generator', role='Data Provider', website=Website(url='https://www.datagenerator.org', site_type='xsd:anyURI'), prov:type={'$': 'prov:Organization', 'type': 'prov:QUALIFIED_NAME'})}, prefix={'seis_prov': 'http://seisprov.org/seis_prov/0.1/#'}), features=[Feature(geometry=FeatureGeometry(coordinates=[-124.1, 32.0, 1.1], type='Point'), properties=FeatureProperties(network_code='NC', station_code='ABCD', name='A nice place for picnics', streams=[Stream(properties=StreamProperties(band_code='H', instrument_code='N', samples_per_second=100.0, stream_housing=StreamHousing(cosmos_code=10, description='A building', stream_depth=0.0, stream_location=None)), traces=[Trace(properties=TraceProperties(channel_code='HNE', location_code='10', as_recorded=True, azimuth=90.0, dip=0.0, start_time=datetime.datetime(2023, 2, 1, 16, 56, 7, 813536), end_time=datetime.datetime(2023, 2, 1, 16, 56, 37, 813536)), metrics=[Metric(properties=MetricProperties(description='Peak Ground Accleration', name='PGA', units='g', provenance_ids=['person', 'software', 'organization'], time_of_peak=None), dimensions=None, values=1.5), Metric(properties=MetricProperties(description='Spectral Accleration', name='SA', units='g', provenance_ids=['person', 'software', 'organization'], time_of_peak=None), dimensions=MetricDimensions(number=2, names=['critical damping', 'period'], units=['%', 's'], axis_values=[[5.0], [0.3, 1.0, 3.0]]), values=[[1.2, 1.4, 1.6]])])])], structure_reference_orientation=None), type='Feature')], type='FeatureCollection')"
      ]
     },
     "execution_count": 21,
     "metadata": {},
     "output_type": "execute_result"
    }
   ],
   "source": [
    "gm_packet = GroundMotionPacket(version=\"0.1dev\", \n",
    "                               event=event, \n",
    "                               provenance=provenance, \n",
    "                               features=[feature]\n",
    "                              )\n",
    "gm_packet"
   ]
  },
  {
   "cell_type": "markdown",
   "id": "863d401e",
   "metadata": {},
   "source": [
    "# Exporting GroundMotion Packets"
   ]
  },
  {
   "cell_type": "code",
   "execution_count": 22,
   "id": "96ccc99e",
   "metadata": {},
   "outputs": [
    {
     "data": {
      "text/plain": [
       "'{\"version\":\"0.1dev\",\"creation_time\":\"2023-02-01T16:56:37Z\",\"event\":{\"type\":\"Feature\",\"properties\":{\"id\":\"us2023abcd\",\"time\":\"2023-02-01T16:56:37Z\",\"magnitude\":7.3},\"geometry\":{\"type\":\"Point\",\"coordinates\":[-120,32.1,35300]}},\"provenance\":{\"agent\":{\"person\":{\"prov:label\":\"Alex Processor\",\"seis_prov:name\":\"Alex Processor\",\"seis_prov:email\":\"aprocessor@datagenerator.org\",\"seis_prov:role\":\"Data Processor\",\"prov:type\":{\"$\":\"prov:Person\",\"type\":\"prov:QUALIFIED_NAME\"}},\"software\":{\"prov:label\":\"gmprocess\",\"seis_prov:software_name\":\"gmprocess\",\"seis_prov:software_version\":\"1.2.0\",\"seis_prov:website\":{\"$\":\"https://code.usgs.gov/ghsc/esi/groundmotion-processing/#introduction\",\"type\":\"xsd:anyURI\"},\"prov:type\":{\"$\":\"prov:SoftwareAgent\",\"type\":\"prov:QUALIFIED_NAME\"}},\"organization\":{\"prov:label\":\"Data Generator\",\"seis_prov:name\":\"Data Generator\",\"seis_prov:role\":\"Data Provider\",\"seis_prov:website\":{\"$\":\"https://www.datagenerator.org\",\"type\":\"xsd:anyURI\"},\"prov:type\":{\"$\":\"prov:Organization\",\"type\":\"prov:QUALIFIED_NAME\"}}},\"prefix\":{\"seis_prov\":\"http://seisprov.org/seis_prov/0.1/#\"}},\"features\":[{\"geometry\":{\"coordinates\":[-124.1,32,1.1],\"type\":\"Point\"},\"properties\":{\"network_code\":\"NC\",\"station_code\":\"ABCD\",\"name\":\"A nice place for picnics\",\"streams\":[{\"properties\":{\"band_code\":\"H\",\"instrument_code\":\"N\",\"samples_per_second\":100,\"stream_housing\":{\"cosmos_code\":10,\"description\":\"A building\",\"stream_depth\":0,\"stream_location\":null}},\"traces\":[{\"properties\":{\"channel_code\":\"HNE\",\"location_code\":\"10\",\"as_recorded\":true,\"azimuth\":90,\"dip\":0,\"start_time\":\"2023-02-01T16:56:07Z\",\"end_time\":\"2023-02-01T16:56:37Z\"},\"metrics\":[{\"properties\":{\"description\":\"Peak Ground Accleration\",\"name\":\"PGA\",\"units\":\"g\",\"provenance_ids\":[\"person\",\"software\",\"organization\"],\"time_of_peak\":null},\"dimensions\":null,\"values\":1.5},{\"properties\":{\"description\":\"Spectral Accleration\",\"name\":\"SA\",\"units\":\"g\",\"provenance_ids\":[\"person\",\"software\",\"organization\"],\"time_of_peak\":null},\"dimensions\":{\"number\":2,\"names\":[\"critical damping\",\"period\"],\"units\":[\"%\",\"s\"],\"axis_values\":[[5],[0.3,1,3]]},\"values\":[[1.2,1.4,1.6]]}]}]}],\"structure_reference_orientation\":null},\"type\":\"Feature\"}],\"type\":\"FeatureCollection\"}'"
      ]
     },
     "execution_count": 22,
     "metadata": {},
     "output_type": "execute_result"
    }
   ],
   "source": [
    "gm_packet.as_json()"
   ]
  },
  {
   "cell_type": "code",
   "execution_count": 23,
   "id": "52356b87",
   "metadata": {},
   "outputs": [
    {
     "name": "stdout",
     "output_type": "stream",
     "text": [
      "           id                       time  magnitude  event_longitude  \\\n",
      "0  us2023abcd 2023-02-01 16:56:37.863269        7.3           -120.0   \n",
      "1  us2023abcd 2023-02-01 16:56:37.863269        7.3           -120.0   \n",
      "\n",
      "   event_latitude  event_depth network station              station_name  \\\n",
      "0            32.1      35300.0      NC    ABCD  A nice place for picnics   \n",
      "1            32.1      35300.0      NC    ABCD  A nice place for picnics   \n",
      "\n",
      "   station_longitude  station_latitude  station_elevation channel location  \\\n",
      "0             -124.1              32.0                1.1     HNE       10   \n",
      "1             -124.1              32.0                1.1     HNE       10   \n",
      "\n",
      "   PGA(g)  SA(g)_critical_damping_5.0%_period_0.3s  \\\n",
      "0     1.5                                      1.2   \n",
      "1     1.5                                      1.2   \n",
      "\n",
      "   SA(g)_critical_damping_5.0%_period_1.0s  \\\n",
      "0                                      1.4   \n",
      "1                                      1.4   \n",
      "\n",
      "   SA(g)_critical_damping_5.0%_period_3.0s  \n",
      "0                                      1.6  \n",
      "1                                      1.6  \n"
     ]
    }
   ],
   "source": [
    "df = gm_packet.to_dataframe()\n",
    "print(df)"
   ]
  },
  {
   "cell_type": "code",
   "execution_count": null,
   "id": "570dec18",
   "metadata": {},
   "outputs": [],
   "source": []
  }
 ],
 "metadata": {
  "kernelspec": {
   "display_name": "Python 3 (ipykernel)",
   "language": "python",
   "name": "python3"
  },
  "language_info": {
   "codemirror_mode": {
    "name": "ipython",
    "version": 3
   },
   "file_extension": ".py",
   "mimetype": "text/x-python",
   "name": "python",
   "nbconvert_exporter": "python",
   "pygments_lexer": "ipython3",
   "version": "3.9.15"
  }
 },
 "nbformat": 4,
 "nbformat_minor": 5
}
