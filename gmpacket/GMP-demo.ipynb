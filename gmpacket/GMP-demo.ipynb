{
 "cells": [
  {
   "cell_type": "markdown",
   "metadata": {},
   "source": [
    "# Demo\n",
    "Be sure to install the python packages as described in the [https://scedc.github.io/ground-motion-packet/cli.html](Command Line Tools) section.\n",
    "\n",
    "Also, for this demo specifically, also install ipyleaflet with\n",
    "\n",
    "```python\n",
    "pip install ipyleaflet\n",
    "jupyter nbextension enable --py widgetsnbextension\n",
    "```\n",
    "\n",
    "The following tutorial can be run in an ipython notebook or in an ipython shell.\n",
    "We will start with the necessary imports"
   ]
  },
  {
   "cell_type": "code",
   "execution_count": 1,
   "metadata": {},
   "outputs": [],
   "source": [
    "import os\n",
    "import json\n",
    "import requests\n",
    "import pkg_resources\n",
    "\n",
    "from ipyleaflet import Map, GeoJSON\n",
    "from gmpacket.scan import scan_gmp"
   ]
  },
  {
   "cell_type": "markdown",
   "metadata": {},
   "source": [
    "Now we will read in the example data that is in the data directory of the gmpacket package"
   ]
  },
  {
   "cell_type": "code",
   "execution_count": 2,
   "metadata": {},
   "outputs": [],
   "source": [
    "datapath = os.path.join('data', 'examples', 'sps-100-200-example.json') # \n",
    "data_file = pkg_resources.resource_filename('gmpacket', datapath)\n",
    "with open(data_file, 'r') as f:\n",
    "    data = json.load(f)\n",
    "geo_json = GeoJSON(data=data)"
   ]
  },
  {
   "cell_type": "markdown",
   "metadata": {},
   "source": [
    "There is only one feature, so we will grab it to set the center of the map"
   ]
  },
  {
   "cell_type": "code",
   "execution_count": 3,
   "metadata": {},
   "outputs": [
    {
     "data": {
      "application/vnd.jupyter.widget-view+json": {
       "model_id": "830257b2105b4deaa314ce6c2243c507",
       "version_major": 2,
       "version_minor": 0
      },
      "text/plain": [
       "Map(center=[35.5249, -117.3645], controls=(ZoomControl(options=['position', 'zoom_in_text', 'zoom_in_title', '…"
      ]
     },
     "metadata": {},
     "output_type": "display_data"
    }
   ],
   "source": [
    "lon, lat, depth = geo_json.data['features'][0]['geometry']['coordinates']\n",
    "m = Map(center=(lat, lon), zoom=7)\n",
    "m.add_layer(geo_json)\n",
    "m"
   ]
  },
  {
   "cell_type": "markdown",
   "metadata": {},
   "source": [
    "Now we can use the ```scan_gmp``` function to print a summary of the example data"
   ]
  },
  {
   "cell_type": "code",
   "execution_count": 4,
   "metadata": {},
   "outputs": [
    {
     "name": "stdout",
     "output_type": "stream",
     "text": [
      "--------------------------------------------------------------------------------\n",
      "Is GMP format valid? True\n",
      "--------------------------------------------------------------------------------\n",
      "Summary of metrics for event ci38457511 (file created 2022-03-31 21:57:47Z)\n",
      "PROVENANCE\n",
      "── SoftwareAgent\n",
      "   software_name: ampgen\n",
      "   software_version: 0.0.36\n",
      "   url: http://dx.doi.org/10.1785/0220190219\n",
      "── Organization\n",
      "   role: data processor\n",
      "   name: Southern California Seismic Network\n",
      "   url: https://scsn.org/\n",
      "── Organization\n",
      "   role: data distributor\n",
      "   name: Southern California Earthquake Data Center\n",
      "   url: https://scedc.caltech.edu\n",
      "--------------------------------------------------------------------------------\n",
      "EVENT\n",
      "  magnitude:    7.1\n",
      "  longitude:    -117.599 deg\n",
      "  latitude:     35.77 deg\n",
      "  elevation:    8.0 m\n",
      "--------------------------------------------------------------------------------\n"
     ]
    }
   ],
   "source": [
    "scan_gmp(data_file, print_what='summary')"
   ]
  },
  {
   "cell_type": "markdown",
   "metadata": {},
   "source": [
    "We can also change the ```print_what``` argument to also include the metrics"
   ]
  },
  {
   "cell_type": "code",
   "execution_count": 5,
   "metadata": {},
   "outputs": [
    {
     "name": "stdout",
     "output_type": "stream",
     "text": [
      "--------------------------------------------------------------------------------\n",
      "Is GMP format valid? True\n",
      "--------------------------------------------------------------------------------\n",
      "Summary of metrics for event ci38457511 (file created 2022-03-31 21:57:47Z)\n",
      "PROVENANCE\n",
      "── SoftwareAgent\n",
      "   software_name: ampgen\n",
      "   software_version: 0.0.36\n",
      "   url: http://dx.doi.org/10.1785/0220190219\n",
      "── Organization\n",
      "   role: data processor\n",
      "   name: Southern California Seismic Network\n",
      "   url: https://scsn.org/\n",
      "── Organization\n",
      "   role: data distributor\n",
      "   name: Southern California Earthquake Data Center\n",
      "   url: https://scedc.caltech.edu\n",
      "--------------------------------------------------------------------------------\n",
      "EVENT\n",
      "  magnitude:    7.1\n",
      "  longitude:    -117.599 deg\n",
      "  latitude:     35.77 deg\n",
      "  elevation:    8.0 m\n",
      "--------------------------------------------------------------------------------\n",
      "FEATURES\n",
      "── STATION True\n",
      "   name:           Christmas Canyon China Lake\n",
      "   network code:   CI\n",
      "   station code:   CCC\n",
      "──── STREAM\n",
      "     band code:    H\n",
      "     inst code:    N\n",
      "     sample rate:  100.0 Hz\n",
      "     Housing: {'cosmos_code': 6, 'description': 'Free field', 'stream_depth': 0.0}\n",
      "       COSMOS code: 6\n",
      "       description: Free field\n",
      "       depth:       0.0 m\n",
      "────── TRACE\n",
      "       channel code:   HNE\n",
      "       location code:  --\n",
      "       as recorded:    True\n",
      "       dip:            0.0 deg\n",
      "       azimuth:        90.0 deg\n",
      "       start time:     2019-07-06T03:19:53Z\n",
      "       end time:       2019-07-06T04:59:53Z\n",
      "──────── METRICS\n",
      "         Spectral acceleration [critical damping=5.0%, period=0.5 s]: 2.3 g\n",
      "         Spectral acceleration [critical damping=5.0%, period=1.0 s]: 2.0 g\n",
      "         Spectral acceleration [critical damping=5.0%, period=1.5 s]: 0.4 g\n",
      "         Spectral acceleration [critical damping=10.0%, period=0.5 s]: 1.6 g\n",
      "         Spectral acceleration [critical damping=10.0%, period=1.0 s]: 1.4 g\n",
      "         Spectral acceleration [critical damping=10.0%, period=1.5 s]: 0.8 g\n",
      "         Spectral acceleration [critical damping=20.0%, period=0.5 s]: 2.0 g\n",
      "         Spectral acceleration [critical damping=20.0%, period=1.0 s]: 1.8 g\n",
      "         Spectral acceleration [critical damping=20.0%, period=1.5 s]: 1.0 g\n",
      "         Peak ground acceleration: 0.137 g\n",
      "────── TRACE\n",
      "       channel code:   HNN\n",
      "       location code:  --\n",
      "       as recorded:    True\n",
      "       dip:            0.0 deg\n",
      "       azimuth:        0.0 deg\n",
      "       start time:     2019-07-06T03:19:53Z\n",
      "       end time:       2019-07-06T04:59:53Z\n",
      "──────── METRICS\n",
      "         Spectral acceleration [critical damping=5.0%, period=0.5 s]: 2.3 g\n",
      "         Spectral acceleration [critical damping=5.0%, period=1.0 s]: 2.0 g\n",
      "         Spectral acceleration [critical damping=5.0%, period=1.5 s]: 0.4 g\n",
      "         Spectral acceleration [critical damping=10.0%, period=0.5 s]: 1.6 g\n",
      "         Spectral acceleration [critical damping=10.0%, period=1.0 s]: 1.4 g\n",
      "         Spectral acceleration [critical damping=10.0%, period=1.5 s]: 0.8 g\n",
      "         Spectral acceleration [critical damping=20.0%, period=0.5 s]: 2.0 g\n",
      "         Spectral acceleration [critical damping=20.0%, period=1.0 s]: 1.8 g\n",
      "         Spectral acceleration [critical damping=20.0%, period=1.5 s]: 1.0 g\n",
      "         Peak ground acceleration: 0.137 g\n",
      "────── TRACE\n",
      "       channel code:   HNZ\n",
      "       location code:  --\n",
      "       as recorded:    True\n",
      "       dip:            -90.0 deg\n",
      "       azimuth:        0.0 deg\n",
      "       start time:     2019-07-06T03:19:53Z\n",
      "       end time:       2019-07-06T04:59:53Z\n",
      "──────── METRICS\n",
      "         Spectral acceleration [critical damping=5.0%, period=0.5 s]: 2.3 g\n",
      "         Spectral acceleration [critical damping=5.0%, period=1.0 s]: 2.0 g\n",
      "         Spectral acceleration [critical damping=5.0%, period=1.5 s]: 0.4 g\n",
      "         Spectral acceleration [critical damping=10.0%, period=0.5 s]: 1.6 g\n",
      "         Spectral acceleration [critical damping=10.0%, period=1.0 s]: 1.4 g\n",
      "         Spectral acceleration [critical damping=10.0%, period=1.5 s]: 0.8 g\n",
      "         Spectral acceleration [critical damping=20.0%, period=0.5 s]: 2.0 g\n",
      "         Spectral acceleration [critical damping=20.0%, period=1.0 s]: 1.8 g\n",
      "         Spectral acceleration [critical damping=20.0%, period=1.5 s]: 1.0 g\n",
      "         Peak ground acceleration: 0.137 g\n",
      "────── TRACE\n",
      "       channel code:   ROTD50\n",
      "       location code:  --\n",
      "       as recorded:    False\n",
      "       dip:            0.0 deg\n",
      "       azimuth:        0.0 deg\n",
      "       start time:     2019-07-06T03:19:53Z\n",
      "       end time:       2019-07-06T04:59:53Z\n",
      "──────── METRICS\n",
      "         Significant duration [Start percentage=5.0%, End percentage=75.0%]: 22.3 sec\n",
      "         Significant duration [Start percentage=5.0%, End percentage=95.0%]: 22.6 sec\n",
      "         Bracketed duration [Threshold=0.025 g]: 41.7 sec\n",
      "         Bracketed duration [Threshold=0.05 g]: 30.5 sec\n",
      "         Bracketed duration [Threshold=0.1 g]: 23.4 sec\n",
      "──── STREAM\n",
      "     band code:    H\n",
      "     inst code:    N\n",
      "     sample rate:  200.0 Hz\n",
      "     Housing: {'cosmos_code': 6, 'description': 'Free field', 'stream_depth': 0.0}\n",
      "       COSMOS code: 6\n",
      "       description: Free field\n",
      "       depth:       0.0 m\n",
      "────── TRACE\n",
      "       channel code:   HNE\n",
      "       location code:  2C\n",
      "       as recorded:    True\n",
      "       dip:            0.0 deg\n",
      "       azimuth:        90.0 deg\n",
      "       start time:     2019-07-06T03:19:53Z\n",
      "       end time:       2019-07-06T04:59:53Z\n",
      "──────── METRICS\n",
      "         Spectral acceleration [critical damping=5.0%, period=0.5 s]: 2.3 g\n",
      "         Spectral acceleration [critical damping=5.0%, period=1.0 s]: 2.0 g\n",
      "         Spectral acceleration [critical damping=5.0%, period=1.5 s]: 0.4 g\n",
      "         Spectral acceleration [critical damping=10.0%, period=0.5 s]: 1.6 g\n",
      "         Spectral acceleration [critical damping=10.0%, period=1.0 s]: 1.4 g\n",
      "         Spectral acceleration [critical damping=10.0%, period=1.5 s]: 0.8 g\n",
      "         Spectral acceleration [critical damping=20.0%, period=0.5 s]: 2.0 g\n",
      "         Spectral acceleration [critical damping=20.0%, period=1.0 s]: 1.8 g\n",
      "         Spectral acceleration [critical damping=20.0%, period=1.5 s]: 1.0 g\n",
      "         Peak ground acceleration: 0.137 g\n",
      "────── TRACE\n",
      "       channel code:   HNN\n",
      "       location code:  2C\n",
      "       as recorded:    True\n",
      "       dip:            0.0 deg\n",
      "       azimuth:        0.0 deg\n",
      "       start time:     2019-07-06T03:19:53Z\n",
      "       end time:       2019-07-06T04:59:53Z\n",
      "──────── METRICS\n",
      "         Spectral acceleration [critical damping=5.0%, period=0.5 s]: 2.3 g\n",
      "         Spectral acceleration [critical damping=5.0%, period=1.0 s]: 2.0 g\n",
      "         Spectral acceleration [critical damping=5.0%, period=1.5 s]: 0.4 g\n",
      "         Spectral acceleration [critical damping=10.0%, period=0.5 s]: 1.6 g\n",
      "         Spectral acceleration [critical damping=10.0%, period=1.0 s]: 1.4 g\n",
      "         Spectral acceleration [critical damping=10.0%, period=1.5 s]: 0.8 g\n",
      "         Spectral acceleration [critical damping=20.0%, period=0.5 s]: 2.0 g\n",
      "         Spectral acceleration [critical damping=20.0%, period=1.0 s]: 1.8 g\n",
      "         Spectral acceleration [critical damping=20.0%, period=1.5 s]: 1.0 g\n",
      "         Peak ground acceleration: 0.137 g\n",
      "────── TRACE\n",
      "       channel code:   HNZ\n",
      "       location code:  2C\n",
      "       as recorded:    True\n",
      "       dip:            -90.0 deg\n",
      "       azimuth:        0.0 deg\n",
      "       start time:     2019-07-06T03:19:53Z\n",
      "       end time:       2019-07-06T04:59:53Z\n",
      "──────── METRICS\n",
      "         Spectral acceleration [critical damping=5.0%, period=0.5 s]: 2.3 g\n",
      "         Spectral acceleration [critical damping=5.0%, period=1.0 s]: 2.0 g\n",
      "         Spectral acceleration [critical damping=5.0%, period=1.5 s]: 0.4 g\n",
      "         Spectral acceleration [critical damping=10.0%, period=0.5 s]: 1.6 g\n",
      "         Spectral acceleration [critical damping=10.0%, period=1.0 s]: 1.4 g\n",
      "         Spectral acceleration [critical damping=10.0%, period=1.5 s]: 0.8 g\n",
      "         Spectral acceleration [critical damping=20.0%, period=0.5 s]: 2.0 g\n",
      "         Spectral acceleration [critical damping=20.0%, period=1.0 s]: 1.8 g\n",
      "         Spectral acceleration [critical damping=20.0%, period=1.5 s]: 1.0 g\n",
      "         Peak ground acceleration: 0.137 g\n"
     ]
    }
   ],
   "source": [
    "scan_gmp(data_file, print_what='all')"
   ]
  },
  {
   "cell_type": "code",
   "execution_count": null,
   "metadata": {},
   "outputs": [],
   "source": []
  }
 ],
 "metadata": {
  "kernelspec": {
   "display_name": "Python 3",
   "language": "python",
   "name": "python3"
  },
  "language_info": {
   "codemirror_mode": {
    "name": "ipython",
    "version": 3
   },
   "file_extension": ".py",
   "mimetype": "text/x-python",
   "name": "python",
   "nbconvert_exporter": "python",
   "pygments_lexer": "ipython3",
   "version": "3.6.7"
  }
 },
 "nbformat": 4,
 "nbformat_minor": 4
}
